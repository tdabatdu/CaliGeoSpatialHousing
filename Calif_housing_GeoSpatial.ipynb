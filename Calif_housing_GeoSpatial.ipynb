{
 "cells": [
  {
   "cell_type": "code",
   "execution_count": 2,
   "metadata": {},
   "outputs": [],
   "source": [
    "from sklearn.linear_model import LinearRegression, RidgeCV, Lasso, LassoCV, ElasticNet, Lars, Ridge\n",
    "from sklearn.model_selection import cross_val_score , RepeatedKFold , GridSearchCV\n",
    "from sklearn.datasets import fetch_california_housing\n",
    "import sklearn.metrics as metrics\n",
    "import pandas as pd \n",
    "import numpy as np \n",
    "import seaborn as sns\n",
    "%matplotlib inline \n",
    "import matplotlib.pyplot as plt \n",
    "import plotly.express as px\n",
    "import plotly.graph_objects as go\n",
    "from plotly import subplots\n",
    "import geopandas\n",
    "import pandas_profiling\n"
   ]
  },
  {
   "cell_type": "markdown",
   "metadata": {},
   "source": [
    "# California Housing Dataset\n",
    "\n",
    "The following is an exploration of the California Housing dataset based on the 1990 US Census. We will be using our analysis of the data to recommend areas for our teammate, Tyler Dabat, to go house hunting. We think North Carolina is too humid for him and he would fit it much better as a California resident."
   ]
  },
  {
   "cell_type": "code",
   "execution_count": null,
   "metadata": {},
   "outputs": [],
   "source": [
    "housing_df = fetch_california_housing(as_frame=True)['frame'] "
   ]
  },
  {
   "cell_type": "markdown",
   "metadata": {},
   "source": [
    "##  Data Exploration"
   ]
  },
  {
   "cell_type": "code",
   "execution_count": null,
   "metadata": {},
   "outputs": [],
   "source": [
    "profile = pandas_profiling.ProfileReport(housing_df)\n",
    "profile.to_widgets()"
   ]
  },
  {
   "cell_type": "markdown",
   "metadata": {},
   "source": [
    "As usual pandas profiling is a great way to start exploring the data. Exploring the histograms produced, both MedHouseVal and HouseAge have a data floor that caps the maximum value of the variable. 5 for MedHouseVal and 50 for HouseAge. Most of the plots are greatly skewed indicating that outliers could be present, which is confirmed by looking at extremes values. \n",
    "\n",
    "There are no missing values in our dataset.\n",
    "\n",
    "Interrogating the correlation heatmaps, it seems like MedInc is highly correlated with the MedHouseVal. It also seems that Longitude and Latitude are correlated to MedHouseVal but to a lesser extent."
   ]
  },
  {
   "cell_type": "code",
   "execution_count": null,
   "metadata": {},
   "outputs": [],
   "source": [
    "plt.figure(figsize=(12,12))\n",
    "plt.xticks(rotation=60)\n",
    "sns.heatmap(housing_df.corr(),linewidths=0.2, cmap=\"RdBu\", annot=True)"
   ]
  },
  {
   "cell_type": "markdown",
   "metadata": {},
   "source": [
    "This correlation matrix also further verifies the linear correlation (0.69) between MedInc and the dependent variable MedHouseVal.\n",
    "\n",
    "AveRooms and AveBedrms also have a strong correlation (0.85). Additionally, Latitude and Longitude have strong negative correlation (-0.92). This is consistent with the general shape of California being similar to a line in the form of $y = -x$ "
   ]
  },
  {
   "cell_type": "code",
   "execution_count": null,
   "metadata": {},
   "outputs": [],
   "source": [
    "fig = subplots.make_subplots(rows=3,cols=3)\n",
    "\n",
    "for i in range(9):\n",
    "    row=i//3 +1 \n",
    "    col=i%3 +1\n",
    "    fig.append_trace(go.Violin(\n",
    "        y=housing_df.iloc[:,i],name=housing_df.columns[i]\n",
    "    )\n",
    "    ,row=row,col=col)\n",
    "fig.update_traces(box_visible=True,\n",
    "                  jitter=0.05,  meanline_visible=True)\n",
    "fig.update_layout(width=1000, height=800, title_text= 'Distibutions of our Variables')\n",
    "fig.show()"
   ]
  },
  {
   "cell_type": "markdown",
   "metadata": {},
   "source": [
    "From these violin diagrams, it can be found that there are statistically abnormal values occur in almost all of the variables most notably in MedInc, AveRooms, AveBedrms, AveOccup, and Population. We see two bumps in the Latitude and Longitude indicating clustering in where the block groups are (higher population density). A cluster of points corresponding to the floor in MedHouseVal can also be seen."
   ]
  },
  {
   "cell_type": "code",
   "execution_count": null,
   "metadata": {},
   "outputs": [],
   "source": [
    "fig = px.scatter_matrix(\n",
    "    housing_df,\n",
    "    dimensions = housing_df.columns[:-1],\n",
    "    labels = {housing_df.columns[i] for i in range(len(housing_df.columns))},\n",
    "    color=\"MedHouseVal\",\n",
    "    opacity = 0.5\n",
    ")\n",
    "fig.update_layout(\n",
    "    title = \"California Housing Dataset Scatter Matrix\",\n",
    "    height= 1000,\n",
    "    width=1000\n",
    ")\n",
    "fig.show()"
   ]
  },
  {
   "cell_type": "markdown",
   "metadata": {},
   "source": [
    "Looking at the scatter matrix the latitude and longitude have two spikes in their corresponding plots vs. Medium House Value. These are most likely due to cities with high housing values."
   ]
  },
  {
   "cell_type": "markdown",
   "metadata": {},
   "source": [
    "## GIS Plots\n",
    "\n",
    "Exploratory GIS plots are shown below. These should give us a better geographical idea of the houing price distribution in California."
   ]
  },
  {
   "cell_type": "code",
   "execution_count": null,
   "metadata": {},
   "outputs": [],
   "source": [
    "house_geo_df = geopandas.GeoDataFrame(housing_df, \n",
    "                                      geometry=geopandas.points_from_xy(housing_df.Longitude, \n",
    "                                                                        housing_df.Latitude))"
   ]
  },
  {
   "cell_type": "code",
   "execution_count": null,
   "metadata": {},
   "outputs": [],
   "source": [
    "housing_df['MedInc'] = housing_df['MedInc'] * 10000\n",
    "housing_df['MedHouseVal'] = housing_df['MedHouseVal'] * 100000\n",
    "fig = px.scatter_mapbox(housing_df, lat= \"Latitude\", lon=\"Longitude\",\n",
    "                size = \"MedInc\", \n",
    "                color =\"MedHouseVal\", \n",
    "                size_max = 10, \n",
    "                color_continuous_scale = px.colors.sequential.Plasma,\n",
    "                center={\"lat\": 37.5, \"lon\": -120},\n",
    "                zoom=5.5,\n",
    "                mapbox_style=\"carto-darkmatter\")\n",
    "fig.update_traces(hovertemplate=\"Median House Value : %{marker.color:$,.0f}<br>\" + \n",
    "                                \"Median Income : %{marker.size:$,.0f}\")\n",
    "fig.update_layout(\n",
    "                title_text='Map',\n",
    "                margin={\"r\":10,\"t\":0,\"l\":10,\"b\":-0},\n",
    "                width=990,\n",
    "                height=900)\n",
    "fig.show()"
   ]
  },
  {
   "cell_type": "markdown",
   "metadata": {},
   "source": [
    "What is most noticeable about the plot above is the higer prices centered around the Los Angeles and the San Fransisco area."
   ]
  },
  {
   "cell_type": "markdown",
   "metadata": {},
   "source": [
    "### Shape File\n",
    "\n",
    "We brought in a shape file to look at the data in terms of the blcok groups. Depicted below is the shape file showing all of the California block groups in th 1990 census data."
   ]
  },
  {
   "cell_type": "code",
   "execution_count": null,
   "metadata": {},
   "outputs": [],
   "source": [
    "calif_shape = geopandas.read_file('bg06_d90.shp')\n",
    "fig, ax = plt.subplots(1, 1, figsize = (15,15))\n",
    "calif_shape.plot(ax=ax)\n",
    "plt.show()"
   ]
  },
  {
   "cell_type": "code",
   "execution_count": null,
   "metadata": {},
   "outputs": [],
   "source": [
    "merged_df = geopandas.sjoin(calif_shape, house_geo_df, how=\"left\", op='intersects')"
   ]
  },
  {
   "cell_type": "code",
   "execution_count": null,
   "metadata": {},
   "outputs": [],
   "source": [
    "fig = px.choropleth_mapbox(merged_df, geojson=merged_df.geometry, \n",
    "                    locations=merged_df.index,\n",
    "                    color='MedHouseVal',\n",
    "                    color_continuous_scale=px.colors.sequential.Plasma,\n",
    "                    center={\"lat\": 37.5, \"lon\": -120},\n",
    "                    zoom=5.5,\n",
    "                    mapbox_style=\"carto-darkmatter\",\n",
    "                    custom_data = ['MedInc', 'BG06_D90_I'])\n",
    "fig.update_traces(hovertemplate=\"<b>Block Group # %{customdata[1]}</b><br><br>\"+ \n",
    "                                \"<b style='color:red;'>Median House Value</b> : %{z:$,.0f}<br>\" + \n",
    "                                \"Median Income : %{customdata[0]:$,.0f}\"\n",
    "                              )\n",
    "fig.update_geos(fitbounds=\"locations\", visible=True)\n",
    "fig.update_layout(\n",
    "                title_text='Map',\n",
    "                margin={\"r\":10,\"t\":0,\"l\":10,\"b\":-0},\n",
    "                width=990,\n",
    "                height=900)\n",
    "fig.show()"
   ]
  },
  {
   "cell_type": "markdown",
   "metadata": {},
   "source": [
    "#### County View"
   ]
  },
  {
   "cell_type": "code",
   "execution_count": null,
   "metadata": {},
   "outputs": [],
   "source": [
    "county_df = merged_df.dissolve(by='CO', aggfunc='mean')\n",
    "county_df['CO'] = county_df.index\n",
    "fig = px.choropleth_mapbox(county_df, geojson=county_df.geometry, \n",
    "                    locations=county_df.index,\n",
    "                    color='MedHouseVal',\n",
    "                    color_continuous_scale=px.colors.sequential.Plasma,\n",
    "                    center={\"lat\": 37.5, \"lon\": -120},\n",
    "                    zoom=5.5,\n",
    "                    mapbox_style=\"carto-darkmatter\",\n",
    "                    custom_data = ['MedInc', 'CO'])\n",
    "fig.update_traces(hovertemplate=\"<b>County # %{customdata[1]}</b><br><br>\"+ \n",
    "                                \"<b style='color:red;'>Median House Value</b> : %{z:$,.0f}<br>\" + \n",
    "                                \"Median Income : %{customdata[0]:$,.0f}\"\n",
    "                              )\n",
    "fig.update_geos(fitbounds=\"locations\", visible=True)\n",
    "fig.update_layout(margin={\"r\":10,\"t\":0,\"l\":10,\"b\":-0},\n",
    "                 width=990,\n",
    "                 height=900,\n",
    "                 title_text='Map')\n",
    "fig.show()"
   ]
  },
  {
   "cell_type": "markdown",
   "metadata": {},
   "source": [
    "Just looking at the counties tells much of the same story. The southern coastal areas tend to have higher values with San Fransisco noticably being the highest area."
   ]
  },
  {
   "cell_type": "markdown",
   "metadata": {},
   "source": [
    "#### Cost Effectiveness\n",
    "\n",
    "The two main factors in Tyler's decision are going to be his expected income and expected price of housing. Let's look at an \"Affordibility Ratio\"; the ratio of income to housing prices."
   ]
  },
  {
   "cell_type": "code",
   "execution_count": null,
   "metadata": {},
   "outputs": [],
   "source": [
    "merged_df['ratio'] = (merged_df.MedInc) / (merged_df.MedHouseVal)\n",
    "fig = px.choropleth_mapbox(merged_df, geojson=merged_df.geometry, \n",
    "                    locations=merged_df.index,\n",
    "                    color='ratio',\n",
    "                    color_continuous_scale=px.colors.sequential.Plasma,\n",
    "                    center={\"lat\": 37.5, \"lon\": -120},\n",
    "                    zoom=5.5,\n",
    "                    mapbox_style=\"carto-darkmatter\",\n",
    "                    custom_data = ['MedHouseVal', 'MedInc', 'BG06_D90_I', 'Population'])\n",
    "fig.update_traces(hovertemplate=\"<b>Block Group # %{customdata[2]}</b><br><br>\"+ \n",
    "                                \"<b style='color:red;'>Affordability Ratio</b> : %{z:.3f}<br>\" + \n",
    "                                \"Median House Value: %{customdata[0]:$,.0f}<br>\"+\n",
    "                                \"Median Income: %{customdata[1]:$,.0f}<br>\" +\n",
    "                                \"population: %{customdata[3]}\"\n",
    "                              )\n",
    "fig.update_layout(\n",
    "                title_text='Map',\n",
    "                margin={\"r\":10,\"t\":0,\"l\":10,\"b\":-0},\n",
    "                width=990,\n",
    "                height=900)\n",
    "fig.show()"
   ]
  },
  {
   "cell_type": "markdown",
   "metadata": {},
   "source": [
    "Wow! There is an affordable area for Tyler to move to. Even better it looks like it is near Los Angeles. Investigating further, this area is the Angeles National Forest with little housing other then those associated with the National Forest Service. Tyler will have to choose between a career change as a Forest Ranger or staying in North Carolina."
   ]
  },
  {
   "cell_type": "markdown",
   "metadata": {},
   "source": [
    "## Regression - The Old Fashioned Way\n",
    "\n",
    "Visual representations of the data placed in California tells us a lot.  But what can we learn form regression?  Are there quality predictors that could have helped Tyler determine if there is a place for him in California?\n",
    "\n",
    "As we noticed from the correlation heatmap, Meadian Income has the greatest correlation with Median House Value.  This should be a great place to start.  "
   ]
  },
  {
   "cell_type": "code",
   "execution_count": null,
   "metadata": {},
   "outputs": [],
   "source": [
    "#only run once to set back to normal after display\n",
    "housing_df['MedInc'] = housing_df['MedInc'] / 10000\n",
    "housing_df['MedHouseVal'] = housing_df['MedHouseVal'] / 100000"
   ]
  },
  {
   "cell_type": "code",
   "execution_count": null,
   "metadata": {},
   "outputs": [],
   "source": [
    "X = housing_df['MedInc'].values.reshape(-1, 1).copy()\n",
    "y = housing_df['MedHouseVal'].values\n",
    "ols = LinearRegression().fit(X, y)\n",
    "housing_df['ols_pred'] = ols.predict(X)\n"
   ]
  },
  {
   "cell_type": "code",
   "execution_count": null,
   "metadata": {},
   "outputs": [],
   "source": [
    "def regression_results(y_true, y_pred):\n",
    "    explained_variance=metrics.explained_variance_score(y_true, y_pred)\n",
    "    mean_absolute_error=metrics.mean_absolute_error(y_true, y_pred) \n",
    "    mse=metrics.mean_squared_error(y_true, y_pred) \n",
    "    try:\n",
    "        mean_squared_log_error=metrics.mean_squared_log_error(y_true, y_pred)\n",
    "    except:\n",
    "        mean_squared_log_error = -9999\n",
    "    median_absolute_error=metrics.median_absolute_error(y_true, y_pred)\n",
    "    r2=metrics.r2_score(y_true, y_pred)\n",
    "\n",
    "    print('explained_variance: ', round(explained_variance,4))    \n",
    "    print('mean_squared_log_error: ', round(mean_squared_log_error , 4))\n",
    "    print('r2: ', round(r2,4))\n",
    "    print('MAE: ', round(mean_absolute_error,4))\n",
    "    print('MSE: ', round(mse,4))\n",
    "    print('RMSE: ', round(np.sqrt(mse) , 4))\n",
    "    \n",
    "regression_results(y, housing_df['ols_pred'])"
   ]
  },
  {
   "cell_type": "code",
   "execution_count": null,
   "metadata": {},
   "outputs": [],
   "source": [
    "plt.scatter(X , y , color='red')\n",
    "plt.plot(X , ols.predict(X) , color='green')\n",
    "plt.title('Median Income vs Mdeian House Value')\n",
    "plt.xlabel('Median Income')\n",
    "plt.ylabel('Median House Value')\n",
    "plt.show()"
   ]
  },
  {
   "cell_type": "markdown",
   "metadata": {},
   "source": [
    "### How did we do?  \n",
    "\n",
    "This model fails to explain more than .5 of the variance, let alone something more desirable > .8.  This single predictor is not great.  The almost solid line of points at 5 (Median Hosue Value) looks like it is hurting the model.  Lets try removing those values as Tyler cannot afford those homes anyway. The line is created from a behavior where all homes greater than 500,000 are set to 500,001.  Removing these homes hopefully improves our model.  "
   ]
  },
  {
   "cell_type": "code",
   "execution_count": null,
   "metadata": {},
   "outputs": [],
   "source": [
    "new_housing_df = housing_df[housing_df['MedHouseVal'] < 5].copy()\n",
    "newX = new_housing_df['MedInc'].values.reshape(-1, 1).copy()\n",
    "newy = new_housing_df['MedHouseVal'].values\n",
    "newOls = LinearRegression().fit(newX, newy)\n",
    "new_housing_df['new_ols_pred'] = newOls.predict(newX)\n",
    "\n",
    "regression_results(newy, new_housing_df['new_ols_pred'])"
   ]
  },
  {
   "cell_type": "code",
   "execution_count": null,
   "metadata": {},
   "outputs": [],
   "source": [
    "plt.scatter(newX , newy , color='red')\n",
    "plt.plot(newX , newOls.predict(newX) , color='green')\n",
    "plt.title('Median Income vs Mdeian House Value')\n",
    "plt.xlabel('Median Income')\n",
    "plt.ylabel('Median House Value')\n",
    "plt.show()"
   ]
  },
  {
   "cell_type": "markdown",
   "metadata": {},
   "source": [
    "### Is There more worth doing with OLS?\n",
    "\n",
    "Unfortunately removing the homes with innacurate median values didn't improve our model.  It in fact slightly decreaed the effectiveness of our model.  That being said, all that was used to predict Median House Value was Median Income.  Since there is no risk in overfitting in the context of minning.  Lets see how a model that uses all predictors performs.  "
   ]
  },
  {
   "cell_type": "code",
   "execution_count": null,
   "metadata": {},
   "outputs": [],
   "source": [
    "allX = new_housing_df[['MedInc' , 'AveRooms' , 'HouseAge' , 'AveBedrms' , 'Population' , 'AveOccup' , 'Latitude' , 'Longitude']]\n",
    "ally = new_housing_df['MedHouseVal'].values\n",
    "allOls = LinearRegression().fit(allX, ally)\n",
    "\n",
    "new_housing_df['all_ols_pred'] = allOls.predict(allX)\n",
    "regression_results(ally, new_housing_df['all_ols_pred'])"
   ]
  },
  {
   "cell_type": "markdown",
   "metadata": {},
   "source": [
    "### Slight Improvement - Now for Lasso Regression\n",
    "\n",
    "Using all of the predictors has improved our model performance slightly.  But can we do better?  Lets see what Lasso Regression can do for us."
   ]
  },
  {
   "cell_type": "code",
   "execution_count": null,
   "metadata": {},
   "outputs": [],
   "source": [
    "lasso_model = Lasso(alpha=1)\n",
    "cross_val = RepeatedKFold(n_splits=10 , n_repeats=3 , random_state=1)\n",
    "scores = cross_val_score(lasso_model , allX , ally, scoring='neg_mean_absolute_error' , cv=cross_val , n_jobs=-1)\n",
    "scores = np.absolute(scores)\n",
    "print('Initial Evaluation Mean MAE: %.3f (%.3f)' %(np.mean(scores), np.std(scores)))\n",
    "lasso_model.fit(allX , ally)\n",
    "new_housing_df['van_lasso'] = lasso_model.predict(allX)\n",
    "regression_results(ally , new_housing_df['van_lasso'])"
   ]
  },
  {
   "cell_type": "markdown",
   "metadata": {},
   "source": [
    "### This Lasso Model Needs Work\n",
    "\n",
    "Vanilla Lasso regression does not produce a very appealing model.  We need to work on optimizing this model.  Lets tune the hyperparameter alpha and see which predictors are best."
   ]
  },
  {
   "cell_type": "code",
   "execution_count": null,
   "metadata": {},
   "outputs": [],
   "source": [
    "import warnings\n",
    "warnings.filterwarnings('ignore')\n",
    "\n",
    "cross_val = RepeatedKFold(n_splits=10 , n_repeats=3 , random_state=1)\n",
    "tun_model = LassoCV(alphas=np.arange(0,1,0.0001) , cv=cross_val, n_jobs=-1)\n",
    "tun_model.fit(allX,ally)\n",
    "print('Tuned alpha %f' %tun_model.alpha_)\n"
   ]
  },
  {
   "cell_type": "markdown",
   "metadata": {},
   "source": [
    "We obtained an alpha of 0.0015, with a lot of warnings about non-convergence.   With a penalty this low, we shouldn't expect much difference in the lasso regression from regular Multiple Regression. (I would like to run more iterations, but it crashes my kernel)  Lets see how the model does."
   ]
  },
  {
   "cell_type": "code",
   "execution_count": null,
   "metadata": {},
   "outputs": [],
   "source": [
    "new_housing_df['tun_lasso'] = tun_model.predict(allX)\n",
    "regression_results(ally , new_housing_df['tun_lasso'])\n",
    "print('Coefs: %s' % tun_model.coef_)"
   ]
  },
  {
   "cell_type": "markdown",
   "metadata": {},
   "source": [
    "It looks as though our best efforts in creating a model that out performs OLS have not produced anything worthy.  Lets try a few other regression techniques and see what we get.  We will continue to use all predictors as none of them were penalized out in the Lasso regression.\n",
    "\n",
    "### Elastic Net"
   ]
  },
  {
   "cell_type": "code",
   "execution_count": null,
   "metadata": {},
   "outputs": [],
   "source": [
    "elastic = ElasticNet(alpha=.01)\n",
    "elastic.fit(allX, ally)\n",
    "new_housing_df['elastic'] = elastic.predict(allX)\n",
    "regression_results(ally , new_housing_df['elastic'])"
   ]
  },
  {
   "cell_type": "markdown",
   "metadata": {},
   "source": [
    "### Lars"
   ]
  },
  {
   "cell_type": "code",
   "execution_count": null,
   "metadata": {},
   "outputs": [],
   "source": [
    "lars = Lars().fit(allX, ally)\n",
    "new_housing_df['lars'] = lars.predict(allX)\n",
    "regression_results(ally , new_housing_df['lars'])"
   ]
  },
  {
   "cell_type": "markdown",
   "metadata": {},
   "source": [
    "### Ridge"
   ]
  },
  {
   "cell_type": "code",
   "execution_count": null,
   "metadata": {},
   "outputs": [],
   "source": [
    "cv = RepeatedKFold(n_splits=10, n_repeats=3, random_state=1)\n",
    "ridge = RidgeCV(alphas=(0,1,0.01), cv=cv, scoring='neg_mean_absolute_error')\n",
    "ridge.fit(allX, ally)\n",
    "new_housing_df['ridge'] = ridge.predict(allX)\n",
    "regression_results(ally , new_housing_df['ridge'])\n",
    "print('alpha: %s' % ridge.alpha_)"
   ]
  },
  {
   "cell_type": "markdown",
   "metadata": {},
   "source": [
    "# Conclusion\n",
    "\n",
    "As it turns out, creating a model that explains most of the variance is not in the cards for Tyler.  Optimized Ridge and Lasso don't perform much better than regular multiple regression.  Unfortunately for Tyler, this does not increase his ability to optimize his choice of housing in California.  It looks like he has become a Park Ranger in the Angeles National Forest, or live in the forrest(If they allow that) to move to his dream state of California."
   ]
  },
  {
   "cell_type": "code",
   "execution_count": null,
   "metadata": {},
   "outputs": [],
   "source": []
  }
 ],
 "metadata": {
  "interpreter": {
   "hash": "d5740b0c65ce1535d49f8104bf53e2dbf28aba8cf44c23304f5a7991b903c1ba"
  },
  "kernelspec": {
   "display_name": "Python 3 (ipykernel)",
   "language": "python",
   "name": "python3"
  },
  "language_info": {
   "codemirror_mode": {
    "name": "ipython",
    "version": 3
   },
   "file_extension": ".py",
   "mimetype": "text/x-python",
   "name": "python",
   "nbconvert_exporter": "python",
   "pygments_lexer": "ipython3",
   "version": "3.8.12"
  }
 },
 "nbformat": 4,
 "nbformat_minor": 4
}
